{
 "cells": [
  {
   "cell_type": "code",
   "execution_count": 52,
   "metadata": {},
   "outputs": [
    {
     "name": "stdout",
     "output_type": "stream",
     "text": [
      "1.12.0\n"
     ]
    }
   ],
   "source": [
    "'''This notebook classifies movie reviews as positive or negative using the text of the review. This is an example of binary—or two-class—classification, an important and widely applicable kind of machine learning problem.\n",
    "\n",
    "We'll use the IMDB dataset that contains the text of 50,000 movie reviews from the Internet Movie Database. These are split into 25,000 reviews for training and 25,000 reviews for testing. The training and testing sets are balanced, meaning they contain an equal number of positive and negative reviews.\n",
    "\n",
    "This notebook uses tf.keras, a high-level API to build and train models in TensorFlow. For a more advanced text classification tutorial using tf.keras, see the MLCC Text Classification Guide.'''\n",
    "%matplotlib inline\n",
    "# TensorFlow and tf.keras\n",
    "import tensorflow as tf\n",
    "from tensorflow import keras\n",
    "\n",
    "import numpy as np\n",
    "\n",
    "print(tf.__version__)"
   ]
  },
  {
   "cell_type": "code",
   "execution_count": 22,
   "metadata": {},
   "outputs": [
    {
     "name": "stdout",
     "output_type": "stream",
     "text": [
      "Training data loaded..\n",
      "word Index loaded..\n"
     ]
    }
   ],
   "source": [
    "imdb = keras.datasets.imdb\n",
    "(train_data, train_labels), (test_data, test_labels) = imdb.load_data(num_words=10000)\n",
    "print(\"Training data loaded..\")\n"
   ]
  },
  {
   "cell_type": "code",
   "execution_count": 29,
   "metadata": {},
   "outputs": [
    {
     "name": "stdout",
     "output_type": "stream",
     "text": [
      "word Dict loaded...\n"
     ]
    }
   ],
   "source": [
    "# A dictionary mapping words to an integer index\n",
    "word_index = imdb.get_word_index()\n",
    "\n",
    "# The first indices are reserved\n",
    "word_index = {k:(v+3) for k,v in word_index.items()} \n",
    "word_index[\"<PAD>\"] = 0\n",
    "word_index[\"<START>\"] = 1\n",
    "word_index[\"<UNK>\"] = 2  # unknown\n",
    "word_index[\"<UNUSED>\"] = 3\n",
    "\n",
    "reverse_word_index = dict([(value, key) for (key, value) in word_index.items()])\n",
    "\n",
    "def decode_review(text):\n",
    "    return ' '.join([reverse_word_index.get(i, '?') for i in text])\n",
    "\n",
    "train_data = keras.preprocessing.sequence.pad_sequences(train_data,\n",
    "                                                        value=word_index[\"<PAD>\"],\n",
    "                                                        padding='post',\n",
    "                                                        maxlen=256)\n",
    "\n",
    "test_data = keras.preprocessing.sequence.pad_sequences(test_data,\n",
    "                                                       value=word_index[\"<PAD>\"],\n",
    "                                                       padding='post',\n",
    "                                                       maxlen=256)\n",
    "print(\"word Dict loaded...\")"
   ]
  },
  {
   "cell_type": "code",
   "execution_count": 34,
   "metadata": {},
   "outputs": [
    {
     "name": "stdout",
     "output_type": "stream",
     "text": [
      "_________________________________________________________________\n",
      "Layer (type)                 Output Shape              Param #   \n",
      "=================================================================\n",
      "embedding (Embedding)        (None, None, 16)          160000    \n",
      "_________________________________________________________________\n",
      "global_average_pooling1d (Gl (None, 16)                0         \n",
      "_________________________________________________________________\n",
      "dense (Dense)                (None, 16)                272       \n",
      "_________________________________________________________________\n",
      "dense_1 (Dense)              (None, 1)                 17        \n",
      "=================================================================\n",
      "Total params: 160,289\n",
      "Trainable params: 160,289\n",
      "Non-trainable params: 0\n",
      "_________________________________________________________________\n"
     ]
    }
   ],
   "source": [
    "vocab_size = 10000\n",
    "\n",
    "model = keras.Sequential()\n",
    "model.add(keras.layers.Embedding(vocab_size, 16))\n",
    "model.add(keras.layers.GlobalAveragePooling1D())\n",
    "model.add(keras.layers.Dense(16, activation=tf.nn.relu))\n",
    "model.add(keras.layers.Dense(1, activation=tf.nn.sigmoid))\n",
    "\n",
    "model.summary()\n",
    "\n"
   ]
  },
  {
   "cell_type": "code",
   "execution_count": 38,
   "metadata": {},
   "outputs": [
    {
     "name": "stdout",
     "output_type": "stream",
     "text": [
      "model compiled.. \n"
     ]
    }
   ],
   "source": [
    "model.compile(optimizer=tf.train.AdamOptimizer(),\n",
    "              loss='binary_crossentropy',\n",
    "              metrics=['accuracy'])\n",
    "print(\"model compiled.. \")\n",
    "x_val = train_data[:10000]\n",
    "partial_x_train = train_data[10000:]\n",
    "\n",
    "y_val = train_labels[:10000]\n",
    "partial_y_train = train_labels[10000:]\n"
   ]
  },
  {
   "cell_type": "code",
   "execution_count": 39,
   "metadata": {
    "collapsed": true
   },
   "outputs": [
    {
     "name": "stdout",
     "output_type": "stream",
     "text": [
      "Train on 15000 samples, validate on 10000 samples\n",
      "Epoch 1/40\n",
      "15000/15000 [==============================] - 2s 111us/step - loss: 0.6916 - acc: 0.5161 - val_loss: 0.6896 - val_acc: 0.5331\n",
      "Epoch 2/40\n",
      "15000/15000 [==============================] - 1s 85us/step - loss: 0.6851 - acc: 0.6012 - val_loss: 0.6810 - val_acc: 0.6790\n",
      "Epoch 3/40\n",
      "15000/15000 [==============================] - 1s 82us/step - loss: 0.6721 - acc: 0.6895 - val_loss: 0.6652 - val_acc: 0.7075\n",
      "Epoch 4/40\n",
      "15000/15000 [==============================] - 1s 85us/step - loss: 0.6496 - acc: 0.7489 - val_loss: 0.6406 - val_acc: 0.7284\n",
      "Epoch 5/40\n",
      "15000/15000 [==============================] - 1s 81us/step - loss: 0.6171 - acc: 0.7777 - val_loss: 0.6063 - val_acc: 0.7805\n",
      "Epoch 6/40\n",
      "15000/15000 [==============================] - 1s 91us/step - loss: 0.5765 - acc: 0.8099 - val_loss: 0.5670 - val_acc: 0.8126\n",
      "Epoch 7/40\n",
      "15000/15000 [==============================] - 1s 83us/step - loss: 0.5311 - acc: 0.8354 - val_loss: 0.5254 - val_acc: 0.8232\n",
      "Epoch 8/40\n",
      "15000/15000 [==============================] - 1s 84us/step - loss: 0.4851 - acc: 0.8525 - val_loss: 0.4849 - val_acc: 0.8356\n",
      "Epoch 9/40\n",
      "15000/15000 [==============================] - 1s 81us/step - loss: 0.4421 - acc: 0.8639 - val_loss: 0.4486 - val_acc: 0.8478\n",
      "Epoch 10/40\n",
      "15000/15000 [==============================] - 1s 87us/step - loss: 0.4032 - acc: 0.8777 - val_loss: 0.4178 - val_acc: 0.8547\n",
      "Epoch 11/40\n",
      "15000/15000 [==============================] - 1s 92us/step - loss: 0.3699 - acc: 0.8847 - val_loss: 0.3943 - val_acc: 0.8568\n",
      "Epoch 12/40\n",
      "15000/15000 [==============================] - 2s 103us/step - loss: 0.3420 - acc: 0.8905 - val_loss: 0.3709 - val_acc: 0.8671\n",
      "Epoch 13/40\n",
      "15000/15000 [==============================] - 2s 112us/step - loss: 0.3165 - acc: 0.8991 - val_loss: 0.3547 - val_acc: 0.8699\n",
      "Epoch 14/40\n",
      "15000/15000 [==============================] - 2s 125us/step - loss: 0.2954 - acc: 0.9047 - val_loss: 0.3399 - val_acc: 0.8737\n",
      "Epoch 15/40\n",
      "15000/15000 [==============================] - 1s 92us/step - loss: 0.2772 - acc: 0.9093 - val_loss: 0.3287 - val_acc: 0.8770\n",
      "Epoch 16/40\n",
      "15000/15000 [==============================] - 1s 97us/step - loss: 0.2616 - acc: 0.9130 - val_loss: 0.3194 - val_acc: 0.8787\n",
      "Epoch 17/40\n",
      "15000/15000 [==============================] - 1s 88us/step - loss: 0.2466 - acc: 0.9189 - val_loss: 0.3120 - val_acc: 0.8792\n",
      "Epoch 18/40\n",
      "15000/15000 [==============================] - 1s 96us/step - loss: 0.2338 - acc: 0.9230 - val_loss: 0.3057 - val_acc: 0.8815\n",
      "Epoch 19/40\n",
      "15000/15000 [==============================] - 1s 82us/step - loss: 0.2219 - acc: 0.9269 - val_loss: 0.3005 - val_acc: 0.8809\n",
      "Epoch 20/40\n",
      "15000/15000 [==============================] - 1s 99us/step - loss: 0.2115 - acc: 0.9292 - val_loss: 0.2965 - val_acc: 0.8825\n",
      "Epoch 21/40\n",
      "15000/15000 [==============================] - 1s 97us/step - loss: 0.2013 - acc: 0.9329 - val_loss: 0.2933 - val_acc: 0.8832\n",
      "Epoch 22/40\n",
      "15000/15000 [==============================] - 2s 105us/step - loss: 0.1921 - acc: 0.9381 - val_loss: 0.2908 - val_acc: 0.8841\n",
      "Epoch 23/40\n",
      "15000/15000 [==============================] - 2s 105us/step - loss: 0.1836 - acc: 0.9411 - val_loss: 0.2897 - val_acc: 0.8845\n",
      "Epoch 24/40\n",
      "15000/15000 [==============================] - 1s 96us/step - loss: 0.1752 - acc: 0.9451 - val_loss: 0.2875 - val_acc: 0.8840\n",
      "Epoch 25/40\n",
      "15000/15000 [==============================] - 1s 96us/step - loss: 0.1678 - acc: 0.9475 - val_loss: 0.2864 - val_acc: 0.8849\n",
      "Epoch 26/40\n",
      "15000/15000 [==============================] - 1s 98us/step - loss: 0.1604 - acc: 0.9503 - val_loss: 0.2866 - val_acc: 0.8863\n",
      "Epoch 27/40\n",
      "15000/15000 [==============================] - 2s 101us/step - loss: 0.1543 - acc: 0.9533 - val_loss: 0.2867 - val_acc: 0.8854\n",
      "Epoch 28/40\n",
      "15000/15000 [==============================] - 1s 86us/step - loss: 0.1477 - acc: 0.9561 - val_loss: 0.2865 - val_acc: 0.8853\n",
      "Epoch 29/40\n",
      "15000/15000 [==============================] - 1s 87us/step - loss: 0.1417 - acc: 0.9575 - val_loss: 0.2868 - val_acc: 0.8854\n",
      "Epoch 30/40\n",
      "15000/15000 [==============================] - 1s 83us/step - loss: 0.1365 - acc: 0.9600 - val_loss: 0.2878 - val_acc: 0.8862\n",
      "Epoch 31/40\n",
      "15000/15000 [==============================] - 1s 87us/step - loss: 0.1304 - acc: 0.9626 - val_loss: 0.2894 - val_acc: 0.8852\n",
      "Epoch 32/40\n",
      "15000/15000 [==============================] - 2s 100us/step - loss: 0.1256 - acc: 0.9643 - val_loss: 0.2912 - val_acc: 0.8862\n",
      "Epoch 33/40\n",
      "15000/15000 [==============================] - 2s 105us/step - loss: 0.1200 - acc: 0.9669 - val_loss: 0.2932 - val_acc: 0.8859\n",
      "Epoch 34/40\n",
      "15000/15000 [==============================] - 1s 97us/step - loss: 0.1156 - acc: 0.9676 - val_loss: 0.2951 - val_acc: 0.8846\n",
      "Epoch 35/40\n",
      "15000/15000 [==============================] - 1s 95us/step - loss: 0.1114 - acc: 0.9692 - val_loss: 0.2969 - val_acc: 0.8853\n",
      "Epoch 36/40\n",
      "15000/15000 [==============================] - 1s 97us/step - loss: 0.1065 - acc: 0.9714 - val_loss: 0.2997 - val_acc: 0.8856\n",
      "Epoch 37/40\n",
      "15000/15000 [==============================] - 1s 88us/step - loss: 0.1026 - acc: 0.9727 - val_loss: 0.3025 - val_acc: 0.8847\n",
      "Epoch 38/40\n",
      "15000/15000 [==============================] - 2s 103us/step - loss: 0.0991 - acc: 0.9734 - val_loss: 0.3056 - val_acc: 0.8834\n",
      "Epoch 39/40\n",
      "15000/15000 [==============================] - ETA: 0s - loss: 0.0946 - acc: 0.975 - 1s 99us/step - loss: 0.0947 - acc: 0.9753 - val_loss: 0.3084 - val_acc: 0.8838\n",
      "Epoch 40/40\n",
      "15000/15000 [==============================] - 2s 102us/step - loss: 0.0909 - acc: 0.9773 - val_loss: 0.3111 - val_acc: 0.8830\n",
      "model trained...\n"
     ]
    }
   ],
   "source": [
    "history = model.fit(partial_x_train,\n",
    "                    partial_y_train,\n",
    "                    epochs=40,\n",
    "                    batch_size=512,\n",
    "                    validation_data=(x_val, y_val),\n",
    "                    verbose=1)\n",
    "print(\"model trained...\")"
   ]
  },
  {
   "cell_type": "code",
   "execution_count": 48,
   "metadata": {},
   "outputs": [
    {
     "name": "stdout",
     "output_type": "stream",
     "text": [
      "25000/25000 [==============================] - 1s 52us/step\n",
      "[0.3313488709592819, 0.87244]\n"
     ]
    }
   ],
   "source": [
    "results = model.evaluate(test_data, test_labels)\n",
    "print(results)\n",
    " "
   ]
  },
  {
   "cell_type": "code",
   "execution_count": 53,
   "metadata": {},
   "outputs": [
    {
     "data": {
      "image/png": "[encoded data removed]",
      "text/plain": [
       "<Figure size 432x288 with 1 Axes>"
      ]
     },
     "metadata": {
      "needs_background": "light"
     },
     "output_type": "display_data"
    }
   ],
   "source": [
    "history_dict = history.history\n",
    "history_dict.keys()\n",
    " \n",
    "import matplotlib.pyplot as plt\n",
    "\n",
    "acc = history.history['acc']\n",
    "val_acc = history.history['val_acc']\n",
    "loss = history.history['loss']\n",
    "val_loss = history.history['val_loss']\n",
    "\n",
    "epochs = range(1, len(acc) + 1)\n",
    "\n",
    "# \"bo\" is for \"blue dot\"\n",
    "plt.plot(epochs, loss, 'bo', label='Training loss')\n",
    "# b is for \"solid blue line\"\n",
    "plt.plot(epochs, val_loss, 'b', label='Validation loss')\n",
    "plt.title('Training and validation loss')\n",
    "plt.xlabel('Epochs')\n",
    "plt.ylabel('Loss')\n",
    "plt.legend()\n",
    "\n",
    "plt.show()\n"
   ]
  },
  {
   "cell_type": "code",
   "execution_count": 54,
   "metadata": {},
   "outputs": [
    {
     "data": {
      "image/png": "[encoded data removed]",
      "text/plain": [
       "<Figure size 432x288 with 1 Axes>"
      ]
     },
     "metadata": {
      "needs_background": "light"
     },
     "output_type": "display_data"
    }
   ],
   "source": [
    "plt.clf()   # clear figure\n",
    "acc_values = history_dict['acc']\n",
    "val_acc_values = history_dict['val_acc']\n",
    "\n",
    "plt.plot(epochs, acc, 'bo', label='Training acc')\n",
    "plt.plot(epochs, val_acc, 'b', label='Validation acc')\n",
    "plt.title('Training and validation accuracy')\n",
    "plt.xlabel('Epochs')\n",
    "plt.ylabel('Accuracy')\n",
    "plt.legend()\n",
    "\n",
    "plt.show()"
   ]
  }
 ],
 "metadata": {
  "kernelspec": {
   "display_name": "Python 3",
   "language": "python",
   "name": "python3"
  },
  "language_info": {
   "codemirror_mode": {
    "name": "ipython",
    "version": 3
   },
   "file_extension": ".py",
   "mimetype": "text/x-python",
   "name": "python",
   "nbconvert_exporter": "python",
   "pygments_lexer": "ipython3",
   "version": "3.6.7"
  }
 },
 "nbformat": 4,
 "nbformat_minor": 2
}
